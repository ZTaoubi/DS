{
 "cells": [
  {
   "cell_type": "markdown",
   "id": "bfe51e12",
   "metadata": {},
   "source": [
    "# Data Science Tools and Ecosystem"
   ]
  },
  {
   "cell_type": "markdown",
   "id": "b4ca1ee5",
   "metadata": {},
   "source": [
    "In this notebook, Data Science Tools and Ecosystem are summarized."
   ]
  },
  {
   "cell_type": "markdown",
   "id": "28f322fc",
   "metadata": {},
   "source": [
    "**Objectives:**\n",
    "\n",
    "- List popular languages for Data Science.\n",
    "- Some commonly used libraries in Data Science.\n",
    "- Creating tables in Markdown.\n",
    "- Provide examples of evaluating arithmetic expressions in Python."
   ]
  },
  {
   "cell_type": "markdown",
   "id": "0fccca6e",
   "metadata": {},
   "source": [
    "Some of the popular languages that Data Scientists use are:\n",
    "\n",
    "1. Python\n",
    "2. SQL\n",
    "3. R"
   ]
  },
  {
   "cell_type": "markdown",
   "id": "b7d32c94",
   "metadata": {},
   "source": [
    "Some of the commonly used libraries used by Data Scientists include:\n",
    "\n",
    "1. NumPy\n",
    "2. pandas\n",
    "3. scikit-learn\n"
   ]
  },
  {
   "cell_type": "markdown",
   "id": "aac76f3e",
   "metadata": {},
   "source": [
    "| Data Science Tools   |\n",
    "|---------------------|\n",
    "| Jupyter Notebook     |\n",
    "| RStudio              |\n",
    "| Visual Studio Code   |"
   ]
  },
  {
   "cell_type": "markdown",
   "id": "6f0be2d3",
   "metadata": {},
   "source": [
    "## Below are a few examples of evaluating arithmetic expressions in Python:\n",
    "\n",
    "1. **Addition:**\n",
    "```python\n",
    "result = 1 + 2\n",
    "print(result)\n"
   ]
  },
  {
   "cell_type": "markdown",
   "id": "971010df",
   "metadata": {},
   "source": [
    "2. **Devision:**\n",
    "```python\n",
    "result = 1 / 2\n",
    "print(result)\n"
   ]
  },
  {
   "cell_type": "markdown",
   "id": "6034e0d9",
   "metadata": {},
   "source": [
    "3. **Substraction:**\n",
    "```python\n",
    "result = 1 - 2\n",
    "print(result)\n"
   ]
  },
  {
   "cell_type": "markdown",
   "id": "93916e92",
   "metadata": {},
   "source": [
    "4. **Multiplication:**\n",
    "```python\n",
    "result = 1 * 2\n",
    "print(result)\n"
   ]
  },
  {
   "cell_type": "code",
   "execution_count": 9,
   "id": "1408dd8b",
   "metadata": {},
   "outputs": [
    {
     "data": {
      "text/plain": [
       "17"
      ]
     },
     "execution_count": 9,
     "metadata": {},
     "output_type": "execute_result"
    }
   ],
   "source": [
    "# This a simple arithmetic expression to mutiply then add integers\n",
    "(3*4)+5 "
   ]
  },
  {
   "cell_type": "code",
   "execution_count": 5,
   "id": "4743c49c",
   "metadata": {},
   "outputs": [
    {
     "data": {
      "text/plain": [
       "3.3333333333333335"
      ]
     },
     "execution_count": 5,
     "metadata": {},
     "output_type": "execute_result"
    }
   ],
   "source": [
    "#This will convert 200 minutes to hours by diving by 60\n",
    "200/60"
   ]
  },
  {
   "cell_type": "markdown",
   "id": "09f4ca6e",
   "metadata": {},
   "source": [
    "## Author\n",
    "\n",
    "Zakaria T."
   ]
  }
 ],
 "metadata": {
  "kernelspec": {
   "display_name": "Python 3 (ipykernel)",
   "language": "python",
   "name": "python3"
  },
  "language_info": {
   "codemirror_mode": {
    "name": "ipython",
    "version": 3
   },
   "file_extension": ".py",
   "mimetype": "text/x-python",
   "name": "python",
   "nbconvert_exporter": "python",
   "pygments_lexer": "ipython3",
   "version": "3.11.5"
  }
 },
 "nbformat": 4,
 "nbformat_minor": 5
}
